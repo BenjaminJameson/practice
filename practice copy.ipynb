{
 "metadata": {
  "language_info": {
   "codemirror_mode": {
    "name": "ipython",
    "version": 3
   },
   "file_extension": ".py",
   "mimetype": "text/x-python",
   "name": "python",
   "nbconvert_exporter": "python",
   "pygments_lexer": "ipython3",
   "version": "3.7.7-final"
  },
  "orig_nbformat": 2,
  "kernelspec": {
   "name": "python37764bittensorflowconda83d04ca840f94899ae446c76b13eddad",
   "display_name": "Python 3.7.7 64-bit ('tensorflow': conda)"
  }
 },
 "nbformat": 4,
 "nbformat_minor": 2,
 "cells": [
  {
   "cell_type": "code",
   "execution_count": null,
   "metadata": {
    "tags": []
   },
   "outputs": [],
   "source": [
    "import tensorflow as tf\n",
    "import numpy as np\n",
    "from tensorflow import keras\n",
    "import matplotlib.pyplot as plt"
   ]
  },
  {
   "cell_type": "code",
   "execution_count": null,
   "metadata": {},
   "outputs": [],
   "source": [
    "fashion_mnist = keras.datasets.fashion_mnist"
   ]
  },
  {
   "cell_type": "code",
   "execution_count": null,
   "metadata": {
    "tags": []
   },
   "outputs": [],
   "source": [
    "(train_images,train_labels),(test_images,test_labels) = fashion_mnist.load_data()"
   ]
  },
  {
   "cell_type": "code",
   "execution_count": null,
   "metadata": {
    "tags": []
   },
   "outputs": [],
   "source": [
    "plt.imshow(train_images[0])"
   ]
  },
  {
   "cell_type": "code",
   "execution_count": null,
   "metadata": {},
   "outputs": [],
   "source": [
    "train_images = train_images/255.0\n",
    "test_images = test_images/255.0"
   ]
  },
  {
   "cell_type": "code",
   "execution_count": 18,
   "metadata": {},
   "outputs": [],
   "source": [
    "model = keras.models.Sequential([keras.layers.Flatten(input_shape = (28,28)),\n",
    "                                 keras.layers.Dense(1024,activation=tf.nn.relu),\n",
    "                                 keras.layers.Dense(10,activation=tf.nn.softmax)])"
   ]
  },
  {
   "cell_type": "code",
   "execution_count": 19,
   "metadata": {},
   "outputs": [],
   "source": [
    "model.compile(optimizer = tf.optimizers.Adam(),\n",
    "              loss = 'sparse_categorical_crossentropy',\n",
    "              metrics=[\"accuracy\"])"
   ]
  },
  {
   "cell_type": "code",
   "execution_count": 20,
   "metadata": {
    "tags": []
   },
   "outputs": [
    {
     "output_type": "stream",
     "name": "stdout",
     "text": "Train on 60000 samples\nEpoch 1/15\n60000/60000 [==============================] - 18s 294us/sample - loss: 0.4735 - accuracy: 0.8311\nEpoch 2/15\n60000/60000 [==============================] - 14s 227us/sample - loss: 0.3577 - accuracy: 0.8691\nEpoch 3/15\n60000/60000 [==============================] - 10s 173us/sample - loss: 0.3219 - accuracy: 0.8810\nEpoch 4/15\n60000/60000 [==============================] - 10s 169us/sample - loss: 0.2949 - accuracy: 0.8907\nEpoch 5/15\n60000/60000 [==============================] - 13s 220us/sample - loss: 0.2751 - accuracy: 0.8975\nEpoch 6/15\n60000/60000 [==============================] - 14s 226us/sample - loss: 0.2605 - accuracy: 0.9037\nEpoch 7/15\n60000/60000 [==============================] - 11s 190us/sample - loss: 0.2479 - accuracy: 0.9063\nEpoch 8/15\n60000/60000 [==============================] - 11s 190us/sample - loss: 0.2377 - accuracy: 0.9108\nEpoch 9/15\n60000/60000 [==============================] - 11s 190us/sample - loss: 0.2254 - accuracy: 0.9156\nEpoch 10/15\n60000/60000 [==============================] - 12s 193us/sample - loss: 0.2187 - accuracy: 0.9184\nEpoch 11/15\n60000/60000 [==============================] - 12s 192us/sample - loss: 0.2099 - accuracy: 0.9216\nEpoch 12/15\n60000/60000 [==============================] - 12s 197us/sample - loss: 0.2023 - accuracy: 0.9237\nEpoch 13/15\n60000/60000 [==============================] - 12s 206us/sample - loss: 0.1956 - accuracy: 0.9258\nEpoch 14/15\n60000/60000 [==============================] - 12s 204us/sample - loss: 0.1913 - accuracy: 0.9274\nEpoch 15/15\n60000/60000 [==============================] - 12s 206us/sample - loss: 0.1837 - accuracy: 0.9305\n"
    },
    {
     "output_type": "execute_result",
     "data": {
      "text/plain": "<tensorflow.python.keras.callbacks.History at 0x17de30dcc88>"
     },
     "metadata": {},
     "execution_count": 20
    }
   ],
   "source": [
    "model.fit(train_images,train_labels,epochs = 15)"
   ]
  },
  {
   "cell_type": "code",
   "execution_count": 21,
   "metadata": {
    "tags": []
   },
   "outputs": [
    {
     "output_type": "stream",
     "name": "stdout",
     "text": "10000/10000 [==============================] - 1s 93us/sample - loss: 0.3422 - accuracy: 0.8922\n"
    },
    {
     "output_type": "execute_result",
     "data": {
      "text/plain": "[0.3421724897146225, 0.8922]"
     },
     "metadata": {},
     "execution_count": 21
    }
   ],
   "source": [
    "model.evaluate(test_images,test_labels)"
   ]
  },
  {
   "cell_type": "code",
   "execution_count": 22,
   "metadata": {},
   "outputs": [],
   "source": [
    "classifications = model.predict(test_images)"
   ]
  },
  {
   "cell_type": "code",
   "execution_count": 23,
   "metadata": {},
   "outputs": [
    {
     "output_type": "execute_result",
     "data": {
      "text/plain": "array([3.3341409e-14, 4.7563255e-15, 1.4360784e-15, 1.4649269e-16,\n       3.9611464e-16, 4.9083292e-07, 2.7896007e-15, 3.9196093e-04,\n       1.6126812e-15, 9.9960762e-01], dtype=float32)"
     },
     "metadata": {},
     "execution_count": 23
    }
   ],
   "source": [
    "classifications[0]"
   ]
  },
  {
   "cell_type": "code",
   "execution_count": null,
   "metadata": {},
   "outputs": [],
   "source": []
  }
 ]
}